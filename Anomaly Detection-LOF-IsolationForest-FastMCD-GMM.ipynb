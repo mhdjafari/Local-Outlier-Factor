{
 "cells": [
  {
   "cell_type": "markdown",
   "metadata": {},
   "source": [
    "# Anomaly Detection Algorithms - Comparative Understanding\n",
    "\n",
    "In this notebook we investigate the performance of four anomaly detection algorithms. We will focus on their performance and time-complexity.\n",
    "\n",
    "- Local Outlier Factor\n",
    "- Isolation Forest\n",
    "- Fast-MCD (Minimum Covariance Determinant)\n",
    "- Gaussian Mixture Model (GMM)\n",
    "\n",
    "\n",
    "\n",
    "## Dataset\n",
    "\n",
    "We use a credit card transaction dataset. \n",
    "https://www.kaggle.com/mlg-ulb/creditcardfraud\n",
    "\n",
    "It contains 284,807 transactions of which 492 transactions are fraudulent. We consider the fraudulent transactions as anomalies, and use the three algorithms to identification.  The dataset is **highly unbalanced**, the positive class (frauds) account for 0.172% of all transactions.\n",
    "\n",
    "The dataset presents transactions that occurred in two days in September 2013 by european cardholders\n",
    "\n",
    "\n",
    "### Features\n",
    "The dataset contains only **numerical input** variables which are the result of a PCA transformation. Unfortunately, due to confidentiality issues, the original features are not provided. Features V1, V2, ... V28 are the principal components obtained with PCA.\n",
    "\n",
    "The only features which have not been transformed with PCA are 'Time' and 'Amount'. \n",
    "- Feature 'Time' contains the seconds elapsed between each transaction and the first transaction in the dataset. \n",
    "- The feature 'Amount' is the transaction Amount, this feature can be used for example-dependant cost-senstive learning. \n",
    "\n",
    "Feature 'Class' is the response variable and it takes value 1 in case of fraud and 0 otherwise. We use this variable to evaluate the performance of the anomaly detection algorithms.\n",
    "\n",
    "\n",
    "\n",
    "\n",
    "## Evaluation \n",
    "\n",
    "We divide the dataset into training and test set, then train the anomaly detection model using the training set. Finally, we use the test dataset to evaluate the performance of the model.\n",
    "\n",
    "Performance evaluation of an anomaly detection algorithm is tricky. Because it is unsupervised learning in which we don't usually have the labels of the data.\n",
    "\n",
    "However, when labeled data are available, we can use **Receiver Operating Characteristic (ROC) curve** to compare the performance of unsupervised anomaly detection algorithms. More specufically, we use the **Area Under Curve (AUC)** score to measure the performance.\n",
    "\n",
    "AUC of a classifier is equivalent to the probability that the classifier will rank a randomly chosen positive instance higher than a randomly chosen negative instance. Note in our anomaly detection problem, an outlier/anomaly has a higher score, as compared to a normal data point. \n",
    "\n",
    "- Thus, a high AUC score indicates that the anomaly detection algorithm ranks an outlier data point with high probability.\n",
    "\n",
    "More specifically, if we randomly pick a “valid” and an “fraudulent” user activity from our test set, the “fraudulent” one will have a **higher anomaly score with a probability that equals the AUC**. This is essential in our product, since we want to make sure that abnormal events get highlighted with an anomaly score larger than that of normal events.\n",
    "\n",
    "The AUC value of an anomaly scorer’s performance ranges from 0 to 1. \n",
    "- An AUC of 1 indicates a flawless anomaly scorer that perfectly separates the two classes (“valid” and “fraudulent”). \n",
    "- If the AUC is below 1, that means that some “valid” events have larger scores than “fraudulent” ones do. \n"
   ]
  },
  {
   "cell_type": "code",
   "execution_count": 1,
   "metadata": {},
   "outputs": [],
   "source": [
    "import warnings\n",
    "from time import time\n",
    "import pandas as pd\n",
    "import numpy as np\n",
    "\n",
    "from matplotlib import pyplot\n",
    "import matplotlib.pyplot as plt\n",
    "plt.style.use('ggplot')\n",
    "import seaborn as sns\n",
    "\n",
    "from sklearn.metrics import accuracy_score, roc_auc_score, confusion_matrix, classification_report\n",
    "\n",
    "from sklearn.model_selection import train_test_split\n",
    "\n",
    "from sklearn.ensemble import IsolationForest\n",
    "from sklearn.neighbors import LocalOutlierFactor\n",
    "from sklearn.covariance import EllipticEnvelope\n",
    "from sklearn.mixture import GaussianMixture"
   ]
  },
  {
   "cell_type": "markdown",
   "metadata": {},
   "source": [
    "## Load the Data"
   ]
  },
  {
   "cell_type": "code",
   "execution_count": 2,
   "metadata": {},
   "outputs": [
    {
     "data": {
      "text/html": [
       "<div>\n",
       "<style scoped>\n",
       "    .dataframe tbody tr th:only-of-type {\n",
       "        vertical-align: middle;\n",
       "    }\n",
       "\n",
       "    .dataframe tbody tr th {\n",
       "        vertical-align: top;\n",
       "    }\n",
       "\n",
       "    .dataframe thead th {\n",
       "        text-align: right;\n",
       "    }\n",
       "</style>\n",
       "<table border=\"1\" class=\"dataframe\">\n",
       "  <thead>\n",
       "    <tr style=\"text-align: right;\">\n",
       "      <th></th>\n",
       "      <th>Time</th>\n",
       "      <th>V1</th>\n",
       "      <th>V2</th>\n",
       "      <th>V3</th>\n",
       "      <th>V4</th>\n",
       "      <th>V5</th>\n",
       "      <th>V6</th>\n",
       "      <th>V7</th>\n",
       "      <th>V8</th>\n",
       "      <th>V9</th>\n",
       "      <th>...</th>\n",
       "      <th>V21</th>\n",
       "      <th>V22</th>\n",
       "      <th>V23</th>\n",
       "      <th>V24</th>\n",
       "      <th>V25</th>\n",
       "      <th>V26</th>\n",
       "      <th>V27</th>\n",
       "      <th>V28</th>\n",
       "      <th>Amount</th>\n",
       "      <th>Class</th>\n",
       "    </tr>\n",
       "  </thead>\n",
       "  <tbody>\n",
       "    <tr>\n",
       "      <th>0</th>\n",
       "      <td>0.0</td>\n",
       "      <td>-1.359807</td>\n",
       "      <td>-0.072781</td>\n",
       "      <td>2.536347</td>\n",
       "      <td>1.378155</td>\n",
       "      <td>-0.338321</td>\n",
       "      <td>0.462388</td>\n",
       "      <td>0.239599</td>\n",
       "      <td>0.098698</td>\n",
       "      <td>0.363787</td>\n",
       "      <td>...</td>\n",
       "      <td>-0.018307</td>\n",
       "      <td>0.277838</td>\n",
       "      <td>-0.110474</td>\n",
       "      <td>0.066928</td>\n",
       "      <td>0.128539</td>\n",
       "      <td>-0.189115</td>\n",
       "      <td>0.133558</td>\n",
       "      <td>-0.021053</td>\n",
       "      <td>149.62</td>\n",
       "      <td>0</td>\n",
       "    </tr>\n",
       "    <tr>\n",
       "      <th>1</th>\n",
       "      <td>0.0</td>\n",
       "      <td>1.191857</td>\n",
       "      <td>0.266151</td>\n",
       "      <td>0.166480</td>\n",
       "      <td>0.448154</td>\n",
       "      <td>0.060018</td>\n",
       "      <td>-0.082361</td>\n",
       "      <td>-0.078803</td>\n",
       "      <td>0.085102</td>\n",
       "      <td>-0.255425</td>\n",
       "      <td>...</td>\n",
       "      <td>-0.225775</td>\n",
       "      <td>-0.638672</td>\n",
       "      <td>0.101288</td>\n",
       "      <td>-0.339846</td>\n",
       "      <td>0.167170</td>\n",
       "      <td>0.125895</td>\n",
       "      <td>-0.008983</td>\n",
       "      <td>0.014724</td>\n",
       "      <td>2.69</td>\n",
       "      <td>0</td>\n",
       "    </tr>\n",
       "    <tr>\n",
       "      <th>2</th>\n",
       "      <td>1.0</td>\n",
       "      <td>-1.358354</td>\n",
       "      <td>-1.340163</td>\n",
       "      <td>1.773209</td>\n",
       "      <td>0.379780</td>\n",
       "      <td>-0.503198</td>\n",
       "      <td>1.800499</td>\n",
       "      <td>0.791461</td>\n",
       "      <td>0.247676</td>\n",
       "      <td>-1.514654</td>\n",
       "      <td>...</td>\n",
       "      <td>0.247998</td>\n",
       "      <td>0.771679</td>\n",
       "      <td>0.909412</td>\n",
       "      <td>-0.689281</td>\n",
       "      <td>-0.327642</td>\n",
       "      <td>-0.139097</td>\n",
       "      <td>-0.055353</td>\n",
       "      <td>-0.059752</td>\n",
       "      <td>378.66</td>\n",
       "      <td>0</td>\n",
       "    </tr>\n",
       "    <tr>\n",
       "      <th>3</th>\n",
       "      <td>1.0</td>\n",
       "      <td>-0.966272</td>\n",
       "      <td>-0.185226</td>\n",
       "      <td>1.792993</td>\n",
       "      <td>-0.863291</td>\n",
       "      <td>-0.010309</td>\n",
       "      <td>1.247203</td>\n",
       "      <td>0.237609</td>\n",
       "      <td>0.377436</td>\n",
       "      <td>-1.387024</td>\n",
       "      <td>...</td>\n",
       "      <td>-0.108300</td>\n",
       "      <td>0.005274</td>\n",
       "      <td>-0.190321</td>\n",
       "      <td>-1.175575</td>\n",
       "      <td>0.647376</td>\n",
       "      <td>-0.221929</td>\n",
       "      <td>0.062723</td>\n",
       "      <td>0.061458</td>\n",
       "      <td>123.50</td>\n",
       "      <td>0</td>\n",
       "    </tr>\n",
       "    <tr>\n",
       "      <th>4</th>\n",
       "      <td>2.0</td>\n",
       "      <td>-1.158233</td>\n",
       "      <td>0.877737</td>\n",
       "      <td>1.548718</td>\n",
       "      <td>0.403034</td>\n",
       "      <td>-0.407193</td>\n",
       "      <td>0.095921</td>\n",
       "      <td>0.592941</td>\n",
       "      <td>-0.270533</td>\n",
       "      <td>0.817739</td>\n",
       "      <td>...</td>\n",
       "      <td>-0.009431</td>\n",
       "      <td>0.798278</td>\n",
       "      <td>-0.137458</td>\n",
       "      <td>0.141267</td>\n",
       "      <td>-0.206010</td>\n",
       "      <td>0.502292</td>\n",
       "      <td>0.219422</td>\n",
       "      <td>0.215153</td>\n",
       "      <td>69.99</td>\n",
       "      <td>0</td>\n",
       "    </tr>\n",
       "  </tbody>\n",
       "</table>\n",
       "<p>5 rows × 31 columns</p>\n",
       "</div>"
      ],
      "text/plain": [
       "   Time        V1        V2        V3        V4        V5        V6        V7  \\\n",
       "0   0.0 -1.359807 -0.072781  2.536347  1.378155 -0.338321  0.462388  0.239599   \n",
       "1   0.0  1.191857  0.266151  0.166480  0.448154  0.060018 -0.082361 -0.078803   \n",
       "2   1.0 -1.358354 -1.340163  1.773209  0.379780 -0.503198  1.800499  0.791461   \n",
       "3   1.0 -0.966272 -0.185226  1.792993 -0.863291 -0.010309  1.247203  0.237609   \n",
       "4   2.0 -1.158233  0.877737  1.548718  0.403034 -0.407193  0.095921  0.592941   \n",
       "\n",
       "         V8        V9  ...       V21       V22       V23       V24       V25  \\\n",
       "0  0.098698  0.363787  ... -0.018307  0.277838 -0.110474  0.066928  0.128539   \n",
       "1  0.085102 -0.255425  ... -0.225775 -0.638672  0.101288 -0.339846  0.167170   \n",
       "2  0.247676 -1.514654  ...  0.247998  0.771679  0.909412 -0.689281 -0.327642   \n",
       "3  0.377436 -1.387024  ... -0.108300  0.005274 -0.190321 -1.175575  0.647376   \n",
       "4 -0.270533  0.817739  ... -0.009431  0.798278 -0.137458  0.141267 -0.206010   \n",
       "\n",
       "        V26       V27       V28  Amount  Class  \n",
       "0 -0.189115  0.133558 -0.021053  149.62      0  \n",
       "1  0.125895 -0.008983  0.014724    2.69      0  \n",
       "2 -0.139097 -0.055353 -0.059752  378.66      0  \n",
       "3 -0.221929  0.062723  0.061458  123.50      0  \n",
       "4  0.502292  0.219422  0.215153   69.99      0  \n",
       "\n",
       "[5 rows x 31 columns]"
      ]
     },
     "execution_count": 2,
     "metadata": {},
     "output_type": "execute_result"
    }
   ],
   "source": [
    "df = pd.read_csv('/Users/hasan/datasets/creditcard.csv')\n",
    "\n",
    "df.head()"
   ]
  },
  {
   "cell_type": "code",
   "execution_count": 3,
   "metadata": {},
   "outputs": [
    {
     "name": "stdout",
     "output_type": "stream",
     "text": [
      "Dimension of the data:  (284807, 31)\n",
      "No. of Rows: 284807\n",
      "No. of Columns: 31\n"
     ]
    }
   ],
   "source": [
    "print(\"Dimension of the data: \", df.shape)\n",
    "\n",
    "no_of_rows = df.shape[0]\n",
    "no_of_columns = df.shape[1]\n",
    "\n",
    "print(\"No. of Rows: %d\" % no_of_rows)\n",
    "print(\"No. of Columns: %d\" % no_of_columns)"
   ]
  },
  {
   "cell_type": "code",
   "execution_count": 4,
   "metadata": {},
   "outputs": [
    {
     "data": {
      "text/html": [
       "<div>\n",
       "<style scoped>\n",
       "    .dataframe tbody tr th:only-of-type {\n",
       "        vertical-align: middle;\n",
       "    }\n",
       "\n",
       "    .dataframe tbody tr th {\n",
       "        vertical-align: top;\n",
       "    }\n",
       "\n",
       "    .dataframe thead th {\n",
       "        text-align: right;\n",
       "    }\n",
       "</style>\n",
       "<table border=\"1\" class=\"dataframe\">\n",
       "  <thead>\n",
       "    <tr style=\"text-align: right;\">\n",
       "      <th></th>\n",
       "      <th>Time</th>\n",
       "      <th>V1</th>\n",
       "      <th>V2</th>\n",
       "      <th>V3</th>\n",
       "      <th>V4</th>\n",
       "      <th>V5</th>\n",
       "      <th>V6</th>\n",
       "      <th>V7</th>\n",
       "      <th>V8</th>\n",
       "      <th>V9</th>\n",
       "      <th>...</th>\n",
       "      <th>V21</th>\n",
       "      <th>V22</th>\n",
       "      <th>V23</th>\n",
       "      <th>V24</th>\n",
       "      <th>V25</th>\n",
       "      <th>V26</th>\n",
       "      <th>V27</th>\n",
       "      <th>V28</th>\n",
       "      <th>Amount</th>\n",
       "      <th>Class</th>\n",
       "    </tr>\n",
       "  </thead>\n",
       "  <tbody>\n",
       "    <tr>\n",
       "      <th>count</th>\n",
       "      <td>284807.000000</td>\n",
       "      <td>2.848070e+05</td>\n",
       "      <td>2.848070e+05</td>\n",
       "      <td>2.848070e+05</td>\n",
       "      <td>2.848070e+05</td>\n",
       "      <td>2.848070e+05</td>\n",
       "      <td>2.848070e+05</td>\n",
       "      <td>2.848070e+05</td>\n",
       "      <td>2.848070e+05</td>\n",
       "      <td>2.848070e+05</td>\n",
       "      <td>...</td>\n",
       "      <td>2.848070e+05</td>\n",
       "      <td>2.848070e+05</td>\n",
       "      <td>2.848070e+05</td>\n",
       "      <td>2.848070e+05</td>\n",
       "      <td>2.848070e+05</td>\n",
       "      <td>2.848070e+05</td>\n",
       "      <td>2.848070e+05</td>\n",
       "      <td>2.848070e+05</td>\n",
       "      <td>284807.000000</td>\n",
       "      <td>284807.000000</td>\n",
       "    </tr>\n",
       "    <tr>\n",
       "      <th>mean</th>\n",
       "      <td>94813.859575</td>\n",
       "      <td>3.919560e-15</td>\n",
       "      <td>5.688174e-16</td>\n",
       "      <td>-8.769071e-15</td>\n",
       "      <td>2.782312e-15</td>\n",
       "      <td>-1.552563e-15</td>\n",
       "      <td>2.010663e-15</td>\n",
       "      <td>-1.694249e-15</td>\n",
       "      <td>-1.927028e-16</td>\n",
       "      <td>-3.137024e-15</td>\n",
       "      <td>...</td>\n",
       "      <td>1.537294e-16</td>\n",
       "      <td>7.959909e-16</td>\n",
       "      <td>5.367590e-16</td>\n",
       "      <td>4.458112e-15</td>\n",
       "      <td>1.453003e-15</td>\n",
       "      <td>1.699104e-15</td>\n",
       "      <td>-3.660161e-16</td>\n",
       "      <td>-1.206049e-16</td>\n",
       "      <td>88.349619</td>\n",
       "      <td>0.001727</td>\n",
       "    </tr>\n",
       "    <tr>\n",
       "      <th>std</th>\n",
       "      <td>47488.145955</td>\n",
       "      <td>1.958696e+00</td>\n",
       "      <td>1.651309e+00</td>\n",
       "      <td>1.516255e+00</td>\n",
       "      <td>1.415869e+00</td>\n",
       "      <td>1.380247e+00</td>\n",
       "      <td>1.332271e+00</td>\n",
       "      <td>1.237094e+00</td>\n",
       "      <td>1.194353e+00</td>\n",
       "      <td>1.098632e+00</td>\n",
       "      <td>...</td>\n",
       "      <td>7.345240e-01</td>\n",
       "      <td>7.257016e-01</td>\n",
       "      <td>6.244603e-01</td>\n",
       "      <td>6.056471e-01</td>\n",
       "      <td>5.212781e-01</td>\n",
       "      <td>4.822270e-01</td>\n",
       "      <td>4.036325e-01</td>\n",
       "      <td>3.300833e-01</td>\n",
       "      <td>250.120109</td>\n",
       "      <td>0.041527</td>\n",
       "    </tr>\n",
       "    <tr>\n",
       "      <th>min</th>\n",
       "      <td>0.000000</td>\n",
       "      <td>-5.640751e+01</td>\n",
       "      <td>-7.271573e+01</td>\n",
       "      <td>-4.832559e+01</td>\n",
       "      <td>-5.683171e+00</td>\n",
       "      <td>-1.137433e+02</td>\n",
       "      <td>-2.616051e+01</td>\n",
       "      <td>-4.355724e+01</td>\n",
       "      <td>-7.321672e+01</td>\n",
       "      <td>-1.343407e+01</td>\n",
       "      <td>...</td>\n",
       "      <td>-3.483038e+01</td>\n",
       "      <td>-1.093314e+01</td>\n",
       "      <td>-4.480774e+01</td>\n",
       "      <td>-2.836627e+00</td>\n",
       "      <td>-1.029540e+01</td>\n",
       "      <td>-2.604551e+00</td>\n",
       "      <td>-2.256568e+01</td>\n",
       "      <td>-1.543008e+01</td>\n",
       "      <td>0.000000</td>\n",
       "      <td>0.000000</td>\n",
       "    </tr>\n",
       "    <tr>\n",
       "      <th>25%</th>\n",
       "      <td>54201.500000</td>\n",
       "      <td>-9.203734e-01</td>\n",
       "      <td>-5.985499e-01</td>\n",
       "      <td>-8.903648e-01</td>\n",
       "      <td>-8.486401e-01</td>\n",
       "      <td>-6.915971e-01</td>\n",
       "      <td>-7.682956e-01</td>\n",
       "      <td>-5.540759e-01</td>\n",
       "      <td>-2.086297e-01</td>\n",
       "      <td>-6.430976e-01</td>\n",
       "      <td>...</td>\n",
       "      <td>-2.283949e-01</td>\n",
       "      <td>-5.423504e-01</td>\n",
       "      <td>-1.618463e-01</td>\n",
       "      <td>-3.545861e-01</td>\n",
       "      <td>-3.171451e-01</td>\n",
       "      <td>-3.269839e-01</td>\n",
       "      <td>-7.083953e-02</td>\n",
       "      <td>-5.295979e-02</td>\n",
       "      <td>5.600000</td>\n",
       "      <td>0.000000</td>\n",
       "    </tr>\n",
       "    <tr>\n",
       "      <th>50%</th>\n",
       "      <td>84692.000000</td>\n",
       "      <td>1.810880e-02</td>\n",
       "      <td>6.548556e-02</td>\n",
       "      <td>1.798463e-01</td>\n",
       "      <td>-1.984653e-02</td>\n",
       "      <td>-5.433583e-02</td>\n",
       "      <td>-2.741871e-01</td>\n",
       "      <td>4.010308e-02</td>\n",
       "      <td>2.235804e-02</td>\n",
       "      <td>-5.142873e-02</td>\n",
       "      <td>...</td>\n",
       "      <td>-2.945017e-02</td>\n",
       "      <td>6.781943e-03</td>\n",
       "      <td>-1.119293e-02</td>\n",
       "      <td>4.097606e-02</td>\n",
       "      <td>1.659350e-02</td>\n",
       "      <td>-5.213911e-02</td>\n",
       "      <td>1.342146e-03</td>\n",
       "      <td>1.124383e-02</td>\n",
       "      <td>22.000000</td>\n",
       "      <td>0.000000</td>\n",
       "    </tr>\n",
       "    <tr>\n",
       "      <th>75%</th>\n",
       "      <td>139320.500000</td>\n",
       "      <td>1.315642e+00</td>\n",
       "      <td>8.037239e-01</td>\n",
       "      <td>1.027196e+00</td>\n",
       "      <td>7.433413e-01</td>\n",
       "      <td>6.119264e-01</td>\n",
       "      <td>3.985649e-01</td>\n",
       "      <td>5.704361e-01</td>\n",
       "      <td>3.273459e-01</td>\n",
       "      <td>5.971390e-01</td>\n",
       "      <td>...</td>\n",
       "      <td>1.863772e-01</td>\n",
       "      <td>5.285536e-01</td>\n",
       "      <td>1.476421e-01</td>\n",
       "      <td>4.395266e-01</td>\n",
       "      <td>3.507156e-01</td>\n",
       "      <td>2.409522e-01</td>\n",
       "      <td>9.104512e-02</td>\n",
       "      <td>7.827995e-02</td>\n",
       "      <td>77.165000</td>\n",
       "      <td>0.000000</td>\n",
       "    </tr>\n",
       "    <tr>\n",
       "      <th>max</th>\n",
       "      <td>172792.000000</td>\n",
       "      <td>2.454930e+00</td>\n",
       "      <td>2.205773e+01</td>\n",
       "      <td>9.382558e+00</td>\n",
       "      <td>1.687534e+01</td>\n",
       "      <td>3.480167e+01</td>\n",
       "      <td>7.330163e+01</td>\n",
       "      <td>1.205895e+02</td>\n",
       "      <td>2.000721e+01</td>\n",
       "      <td>1.559499e+01</td>\n",
       "      <td>...</td>\n",
       "      <td>2.720284e+01</td>\n",
       "      <td>1.050309e+01</td>\n",
       "      <td>2.252841e+01</td>\n",
       "      <td>4.584549e+00</td>\n",
       "      <td>7.519589e+00</td>\n",
       "      <td>3.517346e+00</td>\n",
       "      <td>3.161220e+01</td>\n",
       "      <td>3.384781e+01</td>\n",
       "      <td>25691.160000</td>\n",
       "      <td>1.000000</td>\n",
       "    </tr>\n",
       "  </tbody>\n",
       "</table>\n",
       "<p>8 rows × 31 columns</p>\n",
       "</div>"
      ],
      "text/plain": [
       "                Time            V1            V2            V3            V4  \\\n",
       "count  284807.000000  2.848070e+05  2.848070e+05  2.848070e+05  2.848070e+05   \n",
       "mean    94813.859575  3.919560e-15  5.688174e-16 -8.769071e-15  2.782312e-15   \n",
       "std     47488.145955  1.958696e+00  1.651309e+00  1.516255e+00  1.415869e+00   \n",
       "min         0.000000 -5.640751e+01 -7.271573e+01 -4.832559e+01 -5.683171e+00   \n",
       "25%     54201.500000 -9.203734e-01 -5.985499e-01 -8.903648e-01 -8.486401e-01   \n",
       "50%     84692.000000  1.810880e-02  6.548556e-02  1.798463e-01 -1.984653e-02   \n",
       "75%    139320.500000  1.315642e+00  8.037239e-01  1.027196e+00  7.433413e-01   \n",
       "max    172792.000000  2.454930e+00  2.205773e+01  9.382558e+00  1.687534e+01   \n",
       "\n",
       "                 V5            V6            V7            V8            V9  \\\n",
       "count  2.848070e+05  2.848070e+05  2.848070e+05  2.848070e+05  2.848070e+05   \n",
       "mean  -1.552563e-15  2.010663e-15 -1.694249e-15 -1.927028e-16 -3.137024e-15   \n",
       "std    1.380247e+00  1.332271e+00  1.237094e+00  1.194353e+00  1.098632e+00   \n",
       "min   -1.137433e+02 -2.616051e+01 -4.355724e+01 -7.321672e+01 -1.343407e+01   \n",
       "25%   -6.915971e-01 -7.682956e-01 -5.540759e-01 -2.086297e-01 -6.430976e-01   \n",
       "50%   -5.433583e-02 -2.741871e-01  4.010308e-02  2.235804e-02 -5.142873e-02   \n",
       "75%    6.119264e-01  3.985649e-01  5.704361e-01  3.273459e-01  5.971390e-01   \n",
       "max    3.480167e+01  7.330163e+01  1.205895e+02  2.000721e+01  1.559499e+01   \n",
       "\n",
       "       ...           V21           V22           V23           V24  \\\n",
       "count  ...  2.848070e+05  2.848070e+05  2.848070e+05  2.848070e+05   \n",
       "mean   ...  1.537294e-16  7.959909e-16  5.367590e-16  4.458112e-15   \n",
       "std    ...  7.345240e-01  7.257016e-01  6.244603e-01  6.056471e-01   \n",
       "min    ... -3.483038e+01 -1.093314e+01 -4.480774e+01 -2.836627e+00   \n",
       "25%    ... -2.283949e-01 -5.423504e-01 -1.618463e-01 -3.545861e-01   \n",
       "50%    ... -2.945017e-02  6.781943e-03 -1.119293e-02  4.097606e-02   \n",
       "75%    ...  1.863772e-01  5.285536e-01  1.476421e-01  4.395266e-01   \n",
       "max    ...  2.720284e+01  1.050309e+01  2.252841e+01  4.584549e+00   \n",
       "\n",
       "                V25           V26           V27           V28         Amount  \\\n",
       "count  2.848070e+05  2.848070e+05  2.848070e+05  2.848070e+05  284807.000000   \n",
       "mean   1.453003e-15  1.699104e-15 -3.660161e-16 -1.206049e-16      88.349619   \n",
       "std    5.212781e-01  4.822270e-01  4.036325e-01  3.300833e-01     250.120109   \n",
       "min   -1.029540e+01 -2.604551e+00 -2.256568e+01 -1.543008e+01       0.000000   \n",
       "25%   -3.171451e-01 -3.269839e-01 -7.083953e-02 -5.295979e-02       5.600000   \n",
       "50%    1.659350e-02 -5.213911e-02  1.342146e-03  1.124383e-02      22.000000   \n",
       "75%    3.507156e-01  2.409522e-01  9.104512e-02  7.827995e-02      77.165000   \n",
       "max    7.519589e+00  3.517346e+00  3.161220e+01  3.384781e+01   25691.160000   \n",
       "\n",
       "               Class  \n",
       "count  284807.000000  \n",
       "mean        0.001727  \n",
       "std         0.041527  \n",
       "min         0.000000  \n",
       "25%         0.000000  \n",
       "50%         0.000000  \n",
       "75%         0.000000  \n",
       "max         1.000000  \n",
       "\n",
       "[8 rows x 31 columns]"
      ]
     },
     "execution_count": 4,
     "metadata": {},
     "output_type": "execute_result"
    }
   ],
   "source": [
    "df.describe()"
   ]
  },
  {
   "cell_type": "markdown",
   "metadata": {},
   "source": [
    "## Missing Value\n",
    "\n",
    "The count of each column is 28481 which suggests there are no missing values."
   ]
  },
  {
   "cell_type": "markdown",
   "metadata": {},
   "source": [
    "## Data Distribution\n",
    "\n",
    "We see that the data is heavily skewed."
   ]
  },
  {
   "cell_type": "code",
   "execution_count": 5,
   "metadata": {},
   "outputs": [
    {
     "data": {
      "image/png": "[encoded data removed]",
      "text/plain": [
       "<Figure size 864x864 with 1 Axes>"
      ]
     },
     "metadata": {
      "needs_background": "light"
     },
     "output_type": "display_data"
    }
   ],
   "source": [
    "df['label'] = df['Class'].map({1: 'Fraud', 0: 'Valid'})\n",
    "\n",
    "label_counts = df.label.value_counts()\n",
    "\n",
    "plt.figure(figsize = (12,12))\n",
    "sns.barplot(label_counts.index, label_counts.values, alpha = 0.9)\n",
    "\n",
    "plt.xticks(rotation = 'vertical')\n",
    "plt.ylabel('Counts', fontsize = 12)\n",
    "plt.show()"
   ]
  },
  {
   "cell_type": "markdown",
   "metadata": {},
   "source": [
    "## Correlation Analysis\n",
    "\n",
    "The correlation matrix (below) shows that none of the V1 to V28 PCA components have any correlation to each other. \n",
    "\n",
    "- ‘Class’ is less correlated with ‘Amount’ and ‘Time’ which suggests it is hard to predict whether transaction is fraudulent or not from ‘Amount’ and ‘Time’ details of transaction.\n",
    "\n",
    "- ‘Class’ is negatively correlated with ‘V3’, ‘V7’, ‘V10’, ‘V12’, ‘V14’, ‘V17’ and positively correlated with ‘V2’, ‘V4’, ‘V11’. \n",
    "\n",
    "- The other correlations are relatively small.\n",
    "\n",
    "There are **no significant correlations** between the reduced features (‘V1’ to V’28'). Therefore we don’t drop any of the columns as they are fairly unrelated to each other."
   ]
  },
  {
   "cell_type": "code",
   "execution_count": 6,
   "metadata": {},
   "outputs": [
    {
     "data": {
      "image/png": "[encoded data removed]",
      "text/plain": [
       "<Figure size 864x576 with 2 Axes>"
      ]
     },
     "metadata": {
      "needs_background": "light"
     },
     "output_type": "display_data"
    }
   ],
   "source": [
    "plt.figure(figsize=(12,8))\n",
    "sns.heatmap(df.corr()) # Heatmap of correlation between columns of ‘df’.\n",
    "plt.show()"
   ]
  },
  {
   "cell_type": "markdown",
   "metadata": {},
   "source": [
    "## Compute Fraction of Outliers (Contamination)"
   ]
  },
  {
   "cell_type": "code",
   "execution_count": 7,
   "metadata": {},
   "outputs": [
    {
     "name": "stdout",
     "output_type": "stream",
     "text": [
      "Outlier Fraction: 0.001730\n"
     ]
    }
   ],
   "source": [
    "fraud = df[df['Class'] == 1] # Number of fraudulent transactions\n",
    "valid = df[df['Class'] == 0] # Number of valid transactions\n",
    "outlier_fraction = len(fraud)/float(len(valid))\n",
    "\n",
    "print(\"Outlier Fraction: %f\" % outlier_fraction)"
   ]
  },
  {
   "cell_type": "markdown",
   "metadata": {},
   "source": [
    "## Create Data Matrix X and label vector y"
   ]
  },
  {
   "cell_type": "code",
   "execution_count": 8,
   "metadata": {},
   "outputs": [],
   "source": [
    "y = df['Class']\n",
    "X = df.drop(['Class', 'label'], axis=1)"
   ]
  },
  {
   "cell_type": "markdown",
   "metadata": {},
   "source": [
    "## Create Train and Test Dataset\n",
    "\n",
    "We use sklearn's train_test_split function to spilt the dataset into training and test subsets. The data is shuffled by default before splitting.\n",
    "\n",
    "This function splits arrays or matrices into random train and test subsets.\n",
    "\n",
    "For the reproducibility of the results, we need to use the same seed for the random number generator. The seed is set by the \"random_state\" parameter of the split function.\n",
    "\n",
    "However, in repeated experiments if we don't want to use the same train and test subsets, then we drop the \"random_state\" parameter from the funtion."
   ]
  },
  {
   "cell_type": "code",
   "execution_count": 9,
   "metadata": {},
   "outputs": [],
   "source": [
    "X_train, X_test, y_train, y_test = train_test_split(X, y, test_size=0.3, random_state=42)"
   ]
  },
  {
   "cell_type": "markdown",
   "metadata": {},
   "source": [
    "## Local Outlier Factor\n",
    "\n",
    "We use Scikit-Learn's LocalOutlierFactor model for performing anomaly detection: https://scikit-learn.org/stable/modules/generated/sklearn.neighbors.LocalOutlierFactor.html\n",
    "\n",
    "We need to be careful about setting the following two attributes.\n",
    "- n_neighbors (usually denoted by $k$)\n",
    "- contamination (fraction of anomalies in the dataset)\n",
    "\n",
    "Below we provide a brief guideline to determine optimal values for these two parameters.\n",
    "\n",
    "\n",
    "        contamination:\n",
    "It represents the proportion of outliers in the data set. It is used when fitting to define the threshold on the scores of the samples.\n",
    "- If ‘auto’, the threshold is determined as in the original paper.\n",
    "- If float, the contamination should be in the range [0, 0.5].\n",
    "\n",
    "**We use 0.1 to set the contamination value for all experiments. The rationale is that it provides the highest AUC score on test data.**\n",
    "\n",
    "\n",
    "        n_neighbors:\n",
    "\n",
    "Choosing the optimal $k$ is tricky.\n",
    "\n",
    "Ideally, we should use a range of $k$ to compute the LOF values of a data point and take the maximum LOF value from the range. We do this because we don't usually have the label of the data.\n",
    "\n",
    "**Since the credit card dataset contains labels (fraud/normal), we choose a value of $k$ that gives the highest AUC on the test dataset.**"
   ]
  },
  {
   "cell_type": "code",
   "execution_count": 10,
   "metadata": {},
   "outputs": [
    {
     "name": "stdout",
     "output_type": "stream",
     "text": [
      "CPU times: user 57 µs, sys: 1e+03 ns, total: 58 µs\n",
      "Wall time: 66 µs\n"
     ]
    }
   ],
   "source": [
    "%%time\n",
    "clf_lof=LocalOutlierFactor(n_neighbors=2, algorithm='auto', leaf_size=20, \n",
    "                           metric='minkowski', p=2, metric_params=None, contamination=0.1, n_jobs=-1)"
   ]
  },
  {
   "cell_type": "markdown",
   "metadata": {},
   "source": [
    "## Local Outlier Factor: Evaluate Model Performance\n",
    "\n",
    "We use the \"fit_predict\" method of the LocalOutlierFactor model to generate labels for each data point.\n",
    "\n",
    "- +1: inlier\n",
    "- -1: outlier"
   ]
  },
  {
   "cell_type": "code",
   "execution_count": 11,
   "metadata": {},
   "outputs": [
    {
     "name": "stdout",
     "output_type": "stream",
     "text": [
      "LOF: Running Time = 0.747s\n",
      "\n",
      "Number of Errors:  8545\n",
      "Accuracy Score:  0.8999918074037663\n",
      "AUC Score:  0.7003147455660145\n"
     ]
    },
    {
     "data": {
      "image/png": "[encoded data removed]",
      "text/plain": [
       "<Figure size 576x288 with 2 Axes>"
      ]
     },
     "metadata": {
      "needs_background": "light"
     },
     "output_type": "display_data"
    },
    {
     "name": "stdout",
     "output_type": "stream",
     "text": [
      "              precision    recall  f1-score   support\n",
      "\n",
      "           0       1.00      0.90      0.95     85307\n",
      "           1       0.01      0.50      0.02       136\n",
      "\n",
      "    accuracy                           0.90     85443\n",
      "   macro avg       0.50      0.70      0.48     85443\n",
      "weighted avg       1.00      0.90      0.95     85443\n",
      "\n"
     ]
    }
   ],
   "source": [
    "t0 = time()\n",
    "y_test_pred_lof = clf_lof.fit_predict(X_test)\n",
    "\n",
    "time_lof = time() - t0\n",
    "\n",
    "print(\"LOF: Running Time = %0.3fs\" % time_lof)\n",
    "\n",
    "#print(y_test_pred_lof)\n",
    "\n",
    "neg_lof_scores = clf_lof.negative_outlier_factor_\n",
    "#print(neg_lof_scores)\n",
    "\n",
    "\n",
    "# Create a copy of the predictions\n",
    "y_test_pred_lof_class=y_test_pred_lof.copy()\n",
    "\n",
    "\n",
    "# Re-Label fraudulent transactions with 1 and valid transaction with 0\n",
    "y_test_pred_lof_class[y_test_pred_lof==-1]=1  # Fraudulent transactions are labelled as 1.\n",
    "y_test_pred_lof_class[y_test_pred_lof==1]=0   # Valid transactions are labelled as 0.\n",
    "\n",
    "\n",
    "# Compute total number of errors \n",
    "errors_lof = (y_test_pred_lof_class != y_test).sum() \n",
    "print(\"\\nNumber of Errors: \", errors_lof)\n",
    "\n",
    "print(\"Accuracy Score: \", accuracy_score(y_test_pred_lof_class, y_test))\n",
    "\n",
    "auc_lof = roc_auc_score(y_test, y_test_pred_lof_class)\n",
    "\n",
    "print(\"AUC Score: \", auc_lof)\n",
    "\n",
    "\n",
    "cf_lof = confusion_matrix(y_test, y_test_pred_lof_class)\n",
    "\n",
    "df_cm = pd.DataFrame(cf_lof, ['True Normal','True Fraud'],['Pred Normal','Pred Fraud'])\n",
    "plt.figure(figsize = (8,4))\n",
    "sns.set(font_scale=1.4)#for label size\n",
    "sns.heatmap(df_cm, annot=True,annot_kws={\"size\": 16},fmt='g')# font size\n",
    "plt.show()\n",
    "\n",
    "print(classification_report(y_test, y_test_pred_lof_class))"
   ]
  },
  {
   "cell_type": "markdown",
   "metadata": {},
   "source": [
    "## Isolation Forest\n",
    "\n",
    "We use Scikit-Learn's IsolationForest model for performing anomaly detection.\n",
    "https://scikit-learn.org/stable/modules/generated/sklearn.ensemble.IsolationForest.html#sklearn.ensemble.IsolationForest.decision_function"
   ]
  },
  {
   "cell_type": "code",
   "execution_count": 12,
   "metadata": {},
   "outputs": [
    {
     "name": "stdout",
     "output_type": "stream",
     "text": [
      "CPU times: user 3 µs, sys: 1e+03 ns, total: 4 µs\n",
      "Wall time: 6.91 µs\n"
     ]
    },
    {
     "name": "stderr",
     "output_type": "stream",
     "text": [
      "[Parallel(n_jobs=8)]: Using backend ThreadingBackend with 8 concurrent workers.\n",
      "[Parallel(n_jobs=8)]: Done   2 out of   8 | elapsed:    2.1s remaining:    6.3s\n",
      "[Parallel(n_jobs=8)]: Done   8 out of   8 | elapsed:    2.3s finished\n"
     ]
    },
    {
     "name": "stdout",
     "output_type": "stream",
     "text": [
      "Isolation Forest: Running Time = 10.828s\n"
     ]
    }
   ],
   "source": [
    "%time\n",
    "\n",
    "iso_forest = IsolationForest(n_estimators=100, max_samples='auto', contamination=0.1,\n",
    "                    max_features=1.0, bootstrap=False, verbose=1, n_jobs=-1, random_state=42, behaviour=\"new\")\n",
    "\n",
    "\n",
    "t0 = time()\n",
    "iso_forest.fit(X_train)\n",
    "\n",
    "time_iso_forest = time() - t0\n",
    "\n",
    "print(\"Isolation Forest: Running Time = %0.3fs\" % time_iso_forest)"
   ]
  },
  {
   "cell_type": "markdown",
   "metadata": {},
   "source": [
    "## Isolation Forest: Evaluate Model Performance\n",
    "\n",
    "We use the \"predict\" method of the IsolationForest model to generate labels for each data point.\n",
    "- +1: inlier\n",
    "- -1: outlier\n"
   ]
  },
  {
   "cell_type": "code",
   "execution_count": 13,
   "metadata": {},
   "outputs": [
    {
     "name": "stdout",
     "output_type": "stream",
     "text": [
      "\n",
      "Number of Errors:  8431\n",
      "Accuracy Score:  0.9013260302189764\n",
      "AUC Score:  0.9028664377587109\n"
     ]
    },
    {
     "data": {
      "image/png": "[encoded data removed]",
      "text/plain": [
       "<Figure size 576x288 with 2 Axes>"
      ]
     },
     "metadata": {},
     "output_type": "display_data"
    },
    {
     "name": "stdout",
     "output_type": "stream",
     "text": [
      "              precision    recall  f1-score   support\n",
      "\n",
      "           0       1.00      0.90      0.95     85307\n",
      "           1       0.01      0.90      0.03       136\n",
      "\n",
      "    accuracy                           0.90     85443\n",
      "   macro avg       0.51      0.90      0.49     85443\n",
      "weighted avg       1.00      0.90      0.95     85443\n",
      "\n",
      "CPU times: user 3.1 s, sys: 332 ms, total: 3.43 s\n",
      "Wall time: 3.43 s\n"
     ]
    }
   ],
   "source": [
    "%%time\n",
    "\n",
    "y_test_pred_isof = iso_forest.predict(X_test)\n",
    "\n",
    "\n",
    "# Create a copy of the predictions\n",
    "y_test_pred_isof_class=y_test_pred_isof.copy()\n",
    "\n",
    "\n",
    "# Re-Label fraudulent transactions with 1 and valid transaction with 0\n",
    "y_test_pred_isof_class[y_test_pred_isof==-1]=1 # Fraudulent transactions are labelled as 1.\n",
    "y_test_pred_isof_class[y_test_pred_isof==1]=0 # Valid transactions are labelled as 0.\n",
    "\n",
    "# Compute total number of errors \n",
    "errors_isof = (y_test_pred_isof_class != y_test).sum() \n",
    "print(\"\\nNumber of Errors: \", errors_isof)\n",
    "\n",
    "print(\"Accuracy Score: \", accuracy_score(y_test_pred_isof_class, y_test))\n",
    "\n",
    "auc_iso_forest = roc_auc_score(y_test, y_test_pred_isof_class)\n",
    "\n",
    "print(\"AUC Score: \", auc_iso_forest)\n",
    "\n",
    "\n",
    "cf_isof = confusion_matrix(y_test, y_test_pred_isof_class)\n",
    "\n",
    "df_cm = pd.DataFrame(cf_isof, ['True Normal','True Fraud'],['Pred Normal','Pred Fraud'])\n",
    "plt.figure(figsize = (8,4))\n",
    "plt.title(\"Isolation Forest\")\n",
    "sns.set(font_scale=1.4)#for label size\n",
    "sns.heatmap(df_cm, annot=True,annot_kws={\"size\": 16},fmt='g')# font size\n",
    "plt.show()\n",
    "\n",
    "print(classification_report(y_test, y_test_pred_isof_class))"
   ]
  },
  {
   "cell_type": "markdown",
   "metadata": {},
   "source": [
    "## Isolation Forest: Anomaly Score\n",
    "\n",
    "We can compute anomaly score of the input samples using the \"decision_function\". The anomaly score is derived from the the average path lengths of the samples in the model. \n",
    "- The lower, the more abnormal. \n",
    "- Negative scores represent outliers, positive scores represent inliers."
   ]
  },
  {
   "cell_type": "code",
   "execution_count": 14,
   "metadata": {},
   "outputs": [
    {
     "data": {
      "image/png": "[encoded data removed]",
      "text/plain": [
       "<Figure size 864x576 with 1 Axes>"
      ]
     },
     "metadata": {},
     "output_type": "display_data"
    }
   ],
   "source": [
    "scores = iso_forest.decision_function(X_test)\n",
    "\n",
    "plt.figure(figsize=(12, 8))\n",
    "plt.hist(scores, bins=80);\n",
    "plt.show()"
   ]
  },
  {
   "cell_type": "markdown",
   "metadata": {},
   "source": [
    "## Fast-MCD (Minimum Covariance Determinant)\n",
    "\n",
    "Fast-MCD is implemented by Scikit-Learn's EllipticEnvelope class:\n",
    "https://scikit-learn.org/stable/modules/generated/sklearn.covariance.EllipticEnvelope.html\n",
    "\n",
    "This algorithm is useful for outlier detection, in particular to clean up a dataset. It assumes that the normal instances (inliers) are generated from a single Gaussian distribution (not a mixture). It also assumes that the dataset is contaminated with outliers that were not generated from this Gaussian distribution. When the algorithm estimates the parameters of the Gaussian distribution (i.e., the shape of the elliptic envelope around the inliers), it is careful to ignore the instances that are most likely outliers. This technique gives a better estimation of the elliptic envelope and thus makes the algorithm better at identifying the outliers."
   ]
  },
  {
   "cell_type": "code",
   "execution_count": 15,
   "metadata": {},
   "outputs": [
    {
     "name": "stdout",
     "output_type": "stream",
     "text": [
      "Fast-MCD: Running Time = 23.008s\n",
      "CPU times: user 1min 28s, sys: 3 s, total: 1min 31s\n",
      "Wall time: 23 s\n"
     ]
    }
   ],
   "source": [
    "%%time\n",
    "\n",
    "warnings.filterwarnings('ignore')\n",
    "\n",
    "t0 = time()\n",
    "ee = EllipticEnvelope(contamination=0.1,random_state=0, support_fraction=0.1)\n",
    "ee.fit(X_train)\n",
    "\n",
    "time_ee = time() - t0\n",
    "\n",
    "print(\"Fast-MCD: Running Time = %0.3fs\" % time_ee)"
   ]
  },
  {
   "cell_type": "markdown",
   "metadata": {},
   "source": [
    "## Fast-MCD: Evaluate Model Performance"
   ]
  },
  {
   "cell_type": "code",
   "execution_count": 16,
   "metadata": {},
   "outputs": [
    {
     "name": "stdout",
     "output_type": "stream",
     "text": [
      "\n",
      "Number of Errors:  8379\n",
      "Accuracy Score:  0.9019346230820547\n",
      "AUC Score:  0.8995006099078828\n"
     ]
    },
    {
     "data": {
      "image/png": "[encoded data removed]",
      "text/plain": [
       "<Figure size 576x288 with 2 Axes>"
      ]
     },
     "metadata": {},
     "output_type": "display_data"
    },
    {
     "name": "stdout",
     "output_type": "stream",
     "text": [
      "              precision    recall  f1-score   support\n",
      "\n",
      "           0       1.00      0.90      0.95     85307\n",
      "           1       0.01      0.90      0.03       136\n",
      "\n",
      "    accuracy                           0.90     85443\n",
      "   macro avg       0.51      0.90      0.49     85443\n",
      "weighted avg       1.00      0.90      0.95     85443\n",
      "\n",
      "CPU times: user 955 ms, sys: 59.3 ms, total: 1.01 s\n",
      "Wall time: 460 ms\n"
     ]
    }
   ],
   "source": [
    "%%time\n",
    "\n",
    "y_test_pred_ee = ee.predict(X_test)\n",
    "\n",
    "\n",
    "# Create a copy of the predictions\n",
    "y_test_pred_ee_class=y_test_pred_ee.copy()\n",
    "\n",
    "# Re-Label fraudulent transactions with 1 and valid transaction with 0\n",
    "y_test_pred_ee_class[y_test_pred_ee==-1]=1  # Fraudulent transactions are labelled as 1.\n",
    "y_test_pred_ee_class[y_test_pred_ee==1]=0   # Valid transactions are labelled as 0.\n",
    "\n",
    "\n",
    "# Compute total number of errors \n",
    "errors_ee = (y_test_pred_ee_class != y_test).sum() \n",
    "print(\"\\nNumber of Errors: \", errors_ee)\n",
    "\n",
    "print(\"Accuracy Score: \", accuracy_score(y_test_pred_ee_class, y_test))\n",
    "\n",
    "\n",
    "auc_ee = roc_auc_score(y_test, y_test_pred_ee_class)\n",
    "\n",
    "print(\"AUC Score: \", auc_ee)\n",
    "\n",
    "\n",
    "cf_ee = confusion_matrix(y_test, y_test_pred_ee_class)\n",
    "\n",
    "df_cm = pd.DataFrame(cf_ee, ['True Normal','True Fraud'],['Pred Normal','Pred Fraud'])\n",
    "plt.figure(figsize = (8,4))\n",
    "sns.set(font_scale=1.4)#for label size\n",
    "sns.heatmap(df_cm, annot=True,annot_kws={\"size\": 16},fmt='g')# font size\n",
    "plt.show()\n",
    "\n",
    "print(classification_report(y_test, y_test_pred_ee_class))"
   ]
  },
  {
   "cell_type": "markdown",
   "metadata": {},
   "source": [
    "## Gaussian Mixture Model\n",
    "\n",
    "First, we need to final an optimal $k$. To do this we train GMM with various values of $k$ and measure their Bayesian information criterion (BIC) and Akaike information criterion (AIC).\n",
    "\n",
    "The optimal $k$ minimizes BIC and AIC."
   ]
  },
  {
   "cell_type": "code",
   "execution_count": 17,
   "metadata": {},
   "outputs": [
    {
     "name": "stdout",
     "output_type": "stream",
     "text": [
      "CPU times: user 16h 38min 23s, sys: 1h 27min 43s, total: 18h 6min 6s\n",
      "Wall time: 6h 47min 58s\n"
     ]
    }
   ],
   "source": [
    "%%time\n",
    "\n",
    "neighbors = np.arange(1,21)\n",
    "\n",
    "gms_per_k = [GaussianMixture(n_components=k, n_init=10, random_state=42).fit(X_train)\n",
    "             for k in neighbors]"
   ]
  },
  {
   "cell_type": "code",
   "execution_count": 18,
   "metadata": {},
   "outputs": [],
   "source": [
    "bics = [model.bic(X_train) for model in gms_per_k]\n",
    "aics = [model.aic(X_train) for model in gms_per_k]"
   ]
  },
  {
   "cell_type": "code",
   "execution_count": 21,
   "metadata": {},
   "outputs": [
    {
     "data": {
      "image/png": "[encoded data removed]",
      "text/plain": [
       "<Figure size 864x432 with 1 Axes>"
      ]
     },
     "metadata": {},
     "output_type": "display_data"
    },
    {
     "name": "stdout",
     "output_type": "stream",
     "text": [
      "Optimal K:  20\n"
     ]
    }
   ],
   "source": [
    "plt.figure(figsize=(12, 6))\n",
    "plt.plot(range(1, 21), bics, \"bo-\", label=\"BIC\")\n",
    "plt.plot(range(1, 21), aics, \"go--\", label=\"AIC\")\n",
    "plt.xlabel(\"$k$\", fontsize=14)\n",
    "plt.ylabel(\"Information Criterion\", fontsize=14)\n",
    "plt.legend()\n",
    "plt.show()\n",
    "\n",
    "\n",
    "# Find the value of \"k\" that gives minimum BIC\n",
    "j = 0\n",
    "min_bic = bics[j]\n",
    "max_k = 1\n",
    "\n",
    "for i in neighbors:\n",
    "    if(bics[j] < min_bic):\n",
    "        min_bic = bics[j]\n",
    "        max_k = i\n",
    "    j +=1\n",
    "    \n",
    "print(\"Optimal K: \", max_k)"
   ]
  },
  {
   "cell_type": "markdown",
   "metadata": {},
   "source": [
    "## GMM: Train using Optimal $k$"
   ]
  },
  {
   "cell_type": "code",
   "execution_count": 22,
   "metadata": {},
   "outputs": [
    {
     "name": "stdout",
     "output_type": "stream",
     "text": [
      "GMM: Running Time = 1864.738s\n",
      "CPU times: user 1h 31min 24s, sys: 7min 56s, total: 1h 39min 20s\n",
      "Wall time: 31min 4s\n"
     ]
    }
   ],
   "source": [
    "%%time\n",
    "\n",
    "t0 = time()\n",
    "gmm = GaussianMixture(n_components=max_k, n_init=10, random_state=42)\n",
    "gmm.fit(X_train)\n",
    "\n",
    "time_gmm = time() - t0\n",
    "\n",
    "print(\"GMM: Running Time = %0.3fs\" % time_gmm)"
   ]
  },
  {
   "cell_type": "markdown",
   "metadata": {},
   "source": [
    "## GMM: Finding Anomalies\n",
    "\n",
    "To determine whether a data point is an anomaly we need to compute the log-likelihood of the given data.\n",
    "\n",
    "We use the \"score\" method of GMM to compute the per-sample average log-likelihood of the data.\n",
    "\n",
    "Then, compare the likelihood values with the density threshold.\n",
    "\n",
    "we identify the outliers using the first percentile lowest density as the threshold. I.e., approximately 1% of the instances will be flagged as anomalies."
   ]
  },
  {
   "cell_type": "code",
   "execution_count": 23,
   "metadata": {},
   "outputs": [],
   "source": [
    "densities = gmm.score_samples(X_train)\n",
    "density_threshold = np.percentile(densities, 1)"
   ]
  },
  {
   "cell_type": "markdown",
   "metadata": {},
   "source": [
    "## GMM: Evaluate Model Performance"
   ]
  },
  {
   "cell_type": "code",
   "execution_count": 24,
   "metadata": {},
   "outputs": [
    {
     "name": "stdout",
     "output_type": "stream",
     "text": [
      "\n",
      "Number of Errors:  1776\n",
      "Accuracy Score:  0.991091671515419\n",
      "AUC Score:  0.8988011153297886\n"
     ]
    },
    {
     "data": {
      "image/png": "[encoded data removed]",
      "text/plain": [
       "<Figure size 576x288 with 2 Axes>"
      ]
     },
     "metadata": {},
     "output_type": "display_data"
    },
    {
     "name": "stdout",
     "output_type": "stream",
     "text": [
      "              precision    recall  f1-score   support\n",
      "\n",
      "           0       1.00      0.99      1.00    199008\n",
      "           1       0.14      0.81      0.24       356\n",
      "\n",
      "    accuracy                           0.99    199364\n",
      "   macro avg       0.57      0.90      0.62    199364\n",
      "weighted avg       1.00      0.99      0.99    199364\n",
      "\n"
     ]
    }
   ],
   "source": [
    "# Create a copy of the predictions\n",
    "y_train_pred_gmm=y_train.copy()\n",
    "\n",
    "# Re-Label fraudulent transactions with 1 and valid transaction with 0\n",
    "y_train_pred_gmm[densities < density_threshold]=1  # Fraudulent transactions are labelled as 1.\n",
    "y_train_pred_gmm[densities >= density_threshold]=0   # Valid transactions are labelled as 0.\n",
    "\n",
    "\n",
    "# Compute total number of errors \n",
    "errors_gmm = (y_train_pred_gmm != y_train).sum() \n",
    "print(\"\\nNumber of Errors: \", errors_gmm)\n",
    "\n",
    "print(\"Accuracy Score: \", accuracy_score(y_train_pred_gmm, y_train))\n",
    "\n",
    "\n",
    "auc_gmm = roc_auc_score(y_train, y_train_pred_gmm)\n",
    "\n",
    "print(\"AUC Score: \", auc_gmm)\n",
    "\n",
    "\n",
    "cf_gmm = confusion_matrix(y_train, y_train_pred_gmm)\n",
    "\n",
    "df_cm = pd.DataFrame(cf_gmm, ['True Normal','True Fraud'],['Pred Normal','Pred Fraud'])\n",
    "plt.figure(figsize = (8,4))\n",
    "sns.set(font_scale=1.4)#for label size\n",
    "sns.heatmap(df_cm, annot=True,annot_kws={\"size\": 16},fmt='g')# font size\n",
    "plt.show()\n",
    "\n",
    "print(classification_report(y_train, y_train_pred_gmm))"
   ]
  },
  {
   "cell_type": "markdown",
   "metadata": {},
   "source": [
    "## Comparison of the Four Anomaly Detection Algorithms"
   ]
  },
  {
   "cell_type": "code",
   "execution_count": 25,
   "metadata": {},
   "outputs": [
    {
     "data": {
      "text/html": [
       "<div>\n",
       "<style scoped>\n",
       "    .dataframe tbody tr th:only-of-type {\n",
       "        vertical-align: middle;\n",
       "    }\n",
       "\n",
       "    .dataframe tbody tr th {\n",
       "        vertical-align: top;\n",
       "    }\n",
       "\n",
       "    .dataframe thead th {\n",
       "        text-align: right;\n",
       "    }\n",
       "</style>\n",
       "<table border=\"1\" class=\"dataframe\">\n",
       "  <thead>\n",
       "    <tr style=\"text-align: right;\">\n",
       "      <th></th>\n",
       "      <th>Model</th>\n",
       "      <th>AUC</th>\n",
       "      <th>Running-Time (s)</th>\n",
       "    </tr>\n",
       "  </thead>\n",
       "  <tbody>\n",
       "    <tr>\n",
       "      <th>0</th>\n",
       "      <td>LOF</td>\n",
       "      <td>0.700315</td>\n",
       "      <td>0.746932</td>\n",
       "    </tr>\n",
       "    <tr>\n",
       "      <th>1</th>\n",
       "      <td>Isolation Forest</td>\n",
       "      <td>0.902866</td>\n",
       "      <td>10.828123</td>\n",
       "    </tr>\n",
       "    <tr>\n",
       "      <th>2</th>\n",
       "      <td>Fast MCD</td>\n",
       "      <td>0.899501</td>\n",
       "      <td>23.008117</td>\n",
       "    </tr>\n",
       "    <tr>\n",
       "      <th>3</th>\n",
       "      <td>GMM</td>\n",
       "      <td>0.898801</td>\n",
       "      <td>1864.737648</td>\n",
       "    </tr>\n",
       "  </tbody>\n",
       "</table>\n",
       "</div>"
      ],
      "text/plain": [
       "              Model       AUC  Running-Time (s)\n",
       "0               LOF  0.700315          0.746932\n",
       "1  Isolation Forest  0.902866         10.828123\n",
       "2          Fast MCD  0.899501         23.008117\n",
       "3               GMM  0.898801       1864.737648"
      ]
     },
     "execution_count": 25,
     "metadata": {},
     "output_type": "execute_result"
    }
   ],
   "source": [
    "data = [[\"LOF\", auc_lof, time_lof],\n",
    "       [\"Isolation Forest\", auc_iso_forest, time_iso_forest],\n",
    "       [\"Fast MCD\", auc_ee, time_ee],\n",
    "       [\"GMM\", auc_gmm, time_gmm]]\n",
    "\n",
    "pd.DataFrame(data, columns=[\"Model\", \"AUC\", \"Running-Time (s)\"])"
   ]
  },
  {
   "cell_type": "markdown",
   "metadata": {},
   "source": [
    "# Observation\n",
    "\n",
    "We observe that **Isolation Forest is the most efficient** as it achieves the highest AUC score and it is fast.\n",
    "\n",
    "- Both Fast-MCD and GMM achieve similar AUC score as the Isolation Forest, however their time-complexity is high. \n",
    "\n",
    "- GMM requires significantly longer time, excluding the required for optimal selction of $k$."
   ]
  }
 ],
 "metadata": {
  "kernelspec": {
   "display_name": "Python 3",
   "language": "python",
   "name": "python3"
  },
  "language_info": {
   "codemirror_mode": {
    "name": "ipython",
    "version": 3
   },
   "file_extension": ".py",
   "mimetype": "text/x-python",
   "name": "python",
   "nbconvert_exporter": "python",
   "pygments_lexer": "ipython3",
   "version": "3.7.3"
  }
 },
 "nbformat": 4,
 "nbformat_minor": 2
}
